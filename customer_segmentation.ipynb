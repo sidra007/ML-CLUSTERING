{
  "nbformat": 4,
  "nbformat_minor": 0,
  "metadata": {
    "colab": {
      "name": "customer_segmentation.ipynb",
      "provenance": [],
      "collapsed_sections": [],
      "mount_file_id": "1EnDVbrYBocWhPaYMS2ke_QR0Y2Rom57x",
      "authorship_tag": "ABX9TyPMU/e/Z6Lh9FxmOJSAb7+I"
    },
    "kernelspec": {
      "name": "python3",
      "display_name": "Python 3"
    }
  },
  "cells": [
    {
      "cell_type": "markdown",
      "metadata": {
        "id": "2SK_hDT2s3Yh"
      },
      "source": [
        "# **CUSTOMER SEGMENTATION**"
      ]
    },
    {
      "cell_type": "markdown",
      "metadata": {
        "id": "gJ3fPMn4we7l"
      },
      "source": [
        "## STEP 1\n"
      ]
    },
    {
      "cell_type": "markdown",
      "metadata": {
        "id": "6QqhukU6tvGI"
      },
      "source": [
        "**IMPORTING LIBRARIES**"
      ]
    },
    {
      "cell_type": "code",
      "metadata": {
        "id": "gZUNmblGqmtJ"
      },
      "source": [
        "import numpy as np\n",
        "import pandas as pd\n",
        "from matplotlib import pyplot as plt\n",
        "import seaborn as sns\n",
        "import datetime as dt\n",
        "######\n",
        "import sklearn\n",
        "from sklearn.preprocessing import StandardScaler\n",
        "from sklearn.cluster import KMeans\n",
        "from sklearn.metrics import silhouette_score\n",
        "from scipy.cluster.hierarchy import linkage\n",
        "from scipy.cluster.hierarchy import cut_tree\n",
        "from scipy.cluster.hierarchy import dendrogram\n",
        "\n",
        "# can be writeen as:\n",
        "#from scipy.cluster.hierarchy import linkage,dendrogram,cut_tree"
      ],
      "execution_count": 127,
      "outputs": []
    },
    {
      "cell_type": "markdown",
      "metadata": {
        "id": "5l7GlMVXvEnu"
      },
      "source": [
        "**LOADING DATA FROM DRIVE**"
      ]
    },
    {
      "cell_type": "code",
      "metadata": {
        "id": "edjFvAsvvJSh",
        "outputId": "12e58a8d-788e-4c32-c012-515b7641e3f8",
        "colab": {
          "base_uri": "https://localhost:8080/",
          "height": 289
        }
      },
      "source": [
        "data=pd.read_csv('/content/drive/My Drive/data/OnlineRetail.csv',sep=\",\", encoding=\"ISO-8859-1\", header=0)\n",
        "data.head()"
      ],
      "execution_count": 128,
      "outputs": [
        {
          "output_type": "execute_result",
          "data": {
            "text/html": [
              "<div>\n",
              "<style scoped>\n",
              "    .dataframe tbody tr th:only-of-type {\n",
              "        vertical-align: middle;\n",
              "    }\n",
              "\n",
              "    .dataframe tbody tr th {\n",
              "        vertical-align: top;\n",
              "    }\n",
              "\n",
              "    .dataframe thead th {\n",
              "        text-align: right;\n",
              "    }\n",
              "</style>\n",
              "<table border=\"1\" class=\"dataframe\">\n",
              "  <thead>\n",
              "    <tr style=\"text-align: right;\">\n",
              "      <th></th>\n",
              "      <th>InvoiceNo</th>\n",
              "      <th>StockCode</th>\n",
              "      <th>Description</th>\n",
              "      <th>Quantity</th>\n",
              "      <th>InvoiceDate</th>\n",
              "      <th>UnitPrice</th>\n",
              "      <th>CustomerID</th>\n",
              "      <th>Country</th>\n",
              "    </tr>\n",
              "  </thead>\n",
              "  <tbody>\n",
              "    <tr>\n",
              "      <th>0</th>\n",
              "      <td>536365</td>\n",
              "      <td>85123A</td>\n",
              "      <td>WHITE HANGING HEART T-LIGHT HOLDER</td>\n",
              "      <td>6</td>\n",
              "      <td>01-12-2010 08:26</td>\n",
              "      <td>2.55</td>\n",
              "      <td>17850.0</td>\n",
              "      <td>United Kingdom</td>\n",
              "    </tr>\n",
              "    <tr>\n",
              "      <th>1</th>\n",
              "      <td>536365</td>\n",
              "      <td>71053</td>\n",
              "      <td>WHITE METAL LANTERN</td>\n",
              "      <td>6</td>\n",
              "      <td>01-12-2010 08:26</td>\n",
              "      <td>3.39</td>\n",
              "      <td>17850.0</td>\n",
              "      <td>United Kingdom</td>\n",
              "    </tr>\n",
              "    <tr>\n",
              "      <th>2</th>\n",
              "      <td>536365</td>\n",
              "      <td>84406B</td>\n",
              "      <td>CREAM CUPID HEARTS COAT HANGER</td>\n",
              "      <td>8</td>\n",
              "      <td>01-12-2010 08:26</td>\n",
              "      <td>2.75</td>\n",
              "      <td>17850.0</td>\n",
              "      <td>United Kingdom</td>\n",
              "    </tr>\n",
              "    <tr>\n",
              "      <th>3</th>\n",
              "      <td>536365</td>\n",
              "      <td>84029G</td>\n",
              "      <td>KNITTED UNION FLAG HOT WATER BOTTLE</td>\n",
              "      <td>6</td>\n",
              "      <td>01-12-2010 08:26</td>\n",
              "      <td>3.39</td>\n",
              "      <td>17850.0</td>\n",
              "      <td>United Kingdom</td>\n",
              "    </tr>\n",
              "    <tr>\n",
              "      <th>4</th>\n",
              "      <td>536365</td>\n",
              "      <td>84029E</td>\n",
              "      <td>RED WOOLLY HOTTIE WHITE HEART.</td>\n",
              "      <td>6</td>\n",
              "      <td>01-12-2010 08:26</td>\n",
              "      <td>3.39</td>\n",
              "      <td>17850.0</td>\n",
              "      <td>United Kingdom</td>\n",
              "    </tr>\n",
              "  </tbody>\n",
              "</table>\n",
              "</div>"
            ],
            "text/plain": [
              "  InvoiceNo StockCode  ... CustomerID         Country\n",
              "0    536365    85123A  ...    17850.0  United Kingdom\n",
              "1    536365     71053  ...    17850.0  United Kingdom\n",
              "2    536365    84406B  ...    17850.0  United Kingdom\n",
              "3    536365    84029G  ...    17850.0  United Kingdom\n",
              "4    536365    84029E  ...    17850.0  United Kingdom\n",
              "\n",
              "[5 rows x 8 columns]"
            ]
          },
          "metadata": {
            "tags": []
          },
          "execution_count": 128
        }
      ]
    },
    {
      "cell_type": "markdown",
      "metadata": {
        "id": "d3XcjE5gvuVO"
      },
      "source": [
        "**VIEWING/ANALYING DATA**"
      ]
    },
    {
      "cell_type": "code",
      "metadata": {
        "id": "3kDFOqSsv_ZD",
        "outputId": "1a67b567-f248-442c-99e7-09caa2ac065b",
        "colab": {
          "base_uri": "https://localhost:8080/"
        }
      },
      "source": [
        "data.shape  # 541909 rows, 8 columns"
      ],
      "execution_count": 129,
      "outputs": [
        {
          "output_type": "execute_result",
          "data": {
            "text/plain": [
              "(541909, 8)"
            ]
          },
          "metadata": {
            "tags": []
          },
          "execution_count": 129
        }
      ]
    },
    {
      "cell_type": "code",
      "metadata": {
        "id": "FIJe-Ob1wMR6",
        "outputId": "54aa0021-30e7-45dc-afb5-401f3eed76be",
        "colab": {
          "base_uri": "https://localhost:8080/"
        }
      },
      "source": [
        "data.info()  # it shows that cloumns Description, and CustomerID has some missing values as they are less than 541909"
      ],
      "execution_count": 130,
      "outputs": [
        {
          "output_type": "stream",
          "text": [
            "<class 'pandas.core.frame.DataFrame'>\n",
            "RangeIndex: 541909 entries, 0 to 541908\n",
            "Data columns (total 8 columns):\n",
            " #   Column       Non-Null Count   Dtype  \n",
            "---  ------       --------------   -----  \n",
            " 0   InvoiceNo    541909 non-null  object \n",
            " 1   StockCode    541909 non-null  object \n",
            " 2   Description  540455 non-null  object \n",
            " 3   Quantity     541909 non-null  int64  \n",
            " 4   InvoiceDate  541909 non-null  object \n",
            " 5   UnitPrice    541909 non-null  float64\n",
            " 6   CustomerID   406829 non-null  float64\n",
            " 7   Country      541909 non-null  object \n",
            "dtypes: float64(2), int64(1), object(5)\n",
            "memory usage: 33.1+ MB\n"
          ],
          "name": "stdout"
        }
      ]
    },
    {
      "cell_type": "code",
      "metadata": {
        "id": "ru4hjJYSxP3X",
        "outputId": "84a642d2-6a6d-42e1-8cc6-e27360f3cf15",
        "colab": {
          "base_uri": "https://localhost:8080/",
          "height": 297
        }
      },
      "source": [
        "data.describe()"
      ],
      "execution_count": 131,
      "outputs": [
        {
          "output_type": "execute_result",
          "data": {
            "text/html": [
              "<div>\n",
              "<style scoped>\n",
              "    .dataframe tbody tr th:only-of-type {\n",
              "        vertical-align: middle;\n",
              "    }\n",
              "\n",
              "    .dataframe tbody tr th {\n",
              "        vertical-align: top;\n",
              "    }\n",
              "\n",
              "    .dataframe thead th {\n",
              "        text-align: right;\n",
              "    }\n",
              "</style>\n",
              "<table border=\"1\" class=\"dataframe\">\n",
              "  <thead>\n",
              "    <tr style=\"text-align: right;\">\n",
              "      <th></th>\n",
              "      <th>Quantity</th>\n",
              "      <th>UnitPrice</th>\n",
              "      <th>CustomerID</th>\n",
              "    </tr>\n",
              "  </thead>\n",
              "  <tbody>\n",
              "    <tr>\n",
              "      <th>count</th>\n",
              "      <td>541909.000000</td>\n",
              "      <td>541909.000000</td>\n",
              "      <td>406829.000000</td>\n",
              "    </tr>\n",
              "    <tr>\n",
              "      <th>mean</th>\n",
              "      <td>9.552250</td>\n",
              "      <td>4.611114</td>\n",
              "      <td>15287.690570</td>\n",
              "    </tr>\n",
              "    <tr>\n",
              "      <th>std</th>\n",
              "      <td>218.081158</td>\n",
              "      <td>96.759853</td>\n",
              "      <td>1713.600303</td>\n",
              "    </tr>\n",
              "    <tr>\n",
              "      <th>min</th>\n",
              "      <td>-80995.000000</td>\n",
              "      <td>-11062.060000</td>\n",
              "      <td>12346.000000</td>\n",
              "    </tr>\n",
              "    <tr>\n",
              "      <th>25%</th>\n",
              "      <td>1.000000</td>\n",
              "      <td>1.250000</td>\n",
              "      <td>13953.000000</td>\n",
              "    </tr>\n",
              "    <tr>\n",
              "      <th>50%</th>\n",
              "      <td>3.000000</td>\n",
              "      <td>2.080000</td>\n",
              "      <td>15152.000000</td>\n",
              "    </tr>\n",
              "    <tr>\n",
              "      <th>75%</th>\n",
              "      <td>10.000000</td>\n",
              "      <td>4.130000</td>\n",
              "      <td>16791.000000</td>\n",
              "    </tr>\n",
              "    <tr>\n",
              "      <th>max</th>\n",
              "      <td>80995.000000</td>\n",
              "      <td>38970.000000</td>\n",
              "      <td>18287.000000</td>\n",
              "    </tr>\n",
              "  </tbody>\n",
              "</table>\n",
              "</div>"
            ],
            "text/plain": [
              "            Quantity      UnitPrice     CustomerID\n",
              "count  541909.000000  541909.000000  406829.000000\n",
              "mean        9.552250       4.611114   15287.690570\n",
              "std       218.081158      96.759853    1713.600303\n",
              "min    -80995.000000  -11062.060000   12346.000000\n",
              "25%         1.000000       1.250000   13953.000000\n",
              "50%         3.000000       2.080000   15152.000000\n",
              "75%        10.000000       4.130000   16791.000000\n",
              "max     80995.000000   38970.000000   18287.000000"
            ]
          },
          "metadata": {
            "tags": []
          },
          "execution_count": 131
        }
      ]
    },
    {
      "cell_type": "markdown",
      "metadata": {
        "id": "wI0a437PwtPF"
      },
      "source": [
        "# STEP 2"
      ]
    },
    {
      "cell_type": "markdown",
      "metadata": {
        "id": "tvw5RjF1wx3t"
      },
      "source": [
        "**DATA CLEANING i.e. CHECKING AND REMOVING NAN VALUES**"
      ]
    },
    {
      "cell_type": "code",
      "metadata": {
        "id": "8eFDwNFaw9Yc",
        "outputId": "33b8af50-892e-44a2-a941-28049fcded04",
        "colab": {
          "base_uri": "https://localhost:8080/"
        }
      },
      "source": [
        " # calculating percentage of missing values. Its not necessary as we have already found \n",
        " # it in the previous step.this is the formula for fing % of null values in every column.\n",
        " df_null=round(100*data.isnull().sum())/len(data),2\n",
        " df_null  # In Description 0.26% data is missing while in CustomerID 24.92% data is missing"
      ],
      "execution_count": 132,
      "outputs": [
        {
          "output_type": "execute_result",
          "data": {
            "text/plain": [
              "(InvoiceNo       0.000000\n",
              " StockCode       0.000000\n",
              " Description     0.268311\n",
              " Quantity        0.000000\n",
              " InvoiceDate     0.000000\n",
              " UnitPrice       0.000000\n",
              " CustomerID     24.926694\n",
              " Country         0.000000\n",
              " dtype: float64, 2)"
            ]
          },
          "metadata": {
            "tags": []
          },
          "execution_count": 132
        }
      ]
    },
    {
      "cell_type": "code",
      "metadata": {
        "id": "mz5v6Nt0y392",
        "outputId": "e1a136e9-134c-4bf5-c189-e77ffc000486",
        "colab": {
          "base_uri": "https://localhost:8080/"
        }
      },
      "source": [
        "# now dropping missing values rows\n",
        "data=data.dropna()\n",
        "# checking the shape(no. or rows and cols) again to find out how mant rows are dropped\n",
        "data.shape  #shows that out of 541909 rows, there are now only 40829 rows.remaining rows are dropped\n"
      ],
      "execution_count": 133,
      "outputs": [
        {
          "output_type": "execute_result",
          "data": {
            "text/plain": [
              "(406829, 8)"
            ]
          },
          "metadata": {
            "tags": []
          },
          "execution_count": 133
        }
      ]
    },
    {
      "cell_type": "code",
      "metadata": {
        "id": "JhrYISvHzpqr"
      },
      "source": [
        "# Changing the column CustomerID type to String\n",
        "data['CustomerID']=data['CustomerID'].astype(str)"
      ],
      "execution_count": 134,
      "outputs": []
    },
    {
      "cell_type": "markdown",
      "metadata": {
        "id": "Z6WzY7s1H-GS"
      },
      "source": [
        "# STEP 3: \n",
        "**PREPARING DATA**"
      ]
    },
    {
      "cell_type": "markdown",
      "metadata": {
        "id": "_Bqo7i-h0If2"
      },
      "source": [
        "\n",
        "WE HAVE TO FIND 3 THINGS THAT ARE **\"RFM\"**\n",
        "\n",
        "1) **R (Recency)**: Number of days since last purchase\n",
        "\n",
        "2) **F (Frequency)**: Number of tracsactions\n",
        "\n",
        "3) **M (Monetary)**: Total amount of transactions (revenue contributed)\n"
      ]
    },
    {
      "cell_type": "markdown",
      "metadata": {
        "id": "OuV7tC-12iVo"
      },
      "source": [
        "1) **MONETARY(M)**"
      ]
    },
    {
      "cell_type": "code",
      "metadata": {
        "id": "IXW1o3xs0sCH",
        "outputId": "f77f2bba-37f2-4183-c268-7576fa868ade",
        "colab": {
          "base_uri": "https://localhost:8080/",
          "height": 204
        }
      },
      "source": [
        "# creating a new column amount\n",
        "data['Money']=data['Quantity'] * data['UnitPrice']\n",
        "\n",
        "#grouping this column (amount) with CustomerID \n",
        "# Sum is done to find how much each customer spend\n",
        "rfm_m = data.groupby('CustomerID')['Money'].sum()\n",
        "\n",
        "# reseting index\n",
        "rfm_m = rfm_m.reset_index()\n",
        "rfm_m.head()"
      ],
      "execution_count": 135,
      "outputs": [
        {
          "output_type": "execute_result",
          "data": {
            "text/html": [
              "<div>\n",
              "<style scoped>\n",
              "    .dataframe tbody tr th:only-of-type {\n",
              "        vertical-align: middle;\n",
              "    }\n",
              "\n",
              "    .dataframe tbody tr th {\n",
              "        vertical-align: top;\n",
              "    }\n",
              "\n",
              "    .dataframe thead th {\n",
              "        text-align: right;\n",
              "    }\n",
              "</style>\n",
              "<table border=\"1\" class=\"dataframe\">\n",
              "  <thead>\n",
              "    <tr style=\"text-align: right;\">\n",
              "      <th></th>\n",
              "      <th>CustomerID</th>\n",
              "      <th>Money</th>\n",
              "    </tr>\n",
              "  </thead>\n",
              "  <tbody>\n",
              "    <tr>\n",
              "      <th>0</th>\n",
              "      <td>12346.0</td>\n",
              "      <td>0.00</td>\n",
              "    </tr>\n",
              "    <tr>\n",
              "      <th>1</th>\n",
              "      <td>12347.0</td>\n",
              "      <td>4310.00</td>\n",
              "    </tr>\n",
              "    <tr>\n",
              "      <th>2</th>\n",
              "      <td>12348.0</td>\n",
              "      <td>1797.24</td>\n",
              "    </tr>\n",
              "    <tr>\n",
              "      <th>3</th>\n",
              "      <td>12349.0</td>\n",
              "      <td>1757.55</td>\n",
              "    </tr>\n",
              "    <tr>\n",
              "      <th>4</th>\n",
              "      <td>12350.0</td>\n",
              "      <td>334.40</td>\n",
              "    </tr>\n",
              "  </tbody>\n",
              "</table>\n",
              "</div>"
            ],
            "text/plain": [
              "  CustomerID    Money\n",
              "0    12346.0     0.00\n",
              "1    12347.0  4310.00\n",
              "2    12348.0  1797.24\n",
              "3    12349.0  1757.55\n",
              "4    12350.0   334.40"
            ]
          },
          "metadata": {
            "tags": []
          },
          "execution_count": 135
        }
      ]
    },
    {
      "cell_type": "markdown",
      "metadata": {
        "id": "Zup5rdpR2qrB"
      },
      "source": [
        "2) **FREQUENCY(F)**"
      ]
    },
    {
      "cell_type": "code",
      "metadata": {
        "id": "1SplNCFL214M",
        "outputId": "cdd0c3f7-8bf6-4f7d-eeb1-a230e41e1a44",
        "colab": {
          "base_uri": "https://localhost:8080/",
          "height": 204
        }
      },
      "source": [
        "#grouping the column (InvoiceNo) with CustomerID to find frequency \n",
        "# count is done to find how many times each customer comes\n",
        "rfm_f = data.groupby('CustomerID')['InvoiceNo'].count()\n",
        "\n",
        "# reindexing\n",
        "rfm_f=rfm_f.reset_index()\n",
        "\n",
        "# giving names to columns\n",
        "rfm_f.columns=['CustomerID','Frequency']\n",
        "rfm_f.head()\n",
        "\n"
      ],
      "execution_count": 136,
      "outputs": [
        {
          "output_type": "execute_result",
          "data": {
            "text/html": [
              "<div>\n",
              "<style scoped>\n",
              "    .dataframe tbody tr th:only-of-type {\n",
              "        vertical-align: middle;\n",
              "    }\n",
              "\n",
              "    .dataframe tbody tr th {\n",
              "        vertical-align: top;\n",
              "    }\n",
              "\n",
              "    .dataframe thead th {\n",
              "        text-align: right;\n",
              "    }\n",
              "</style>\n",
              "<table border=\"1\" class=\"dataframe\">\n",
              "  <thead>\n",
              "    <tr style=\"text-align: right;\">\n",
              "      <th></th>\n",
              "      <th>CustomerID</th>\n",
              "      <th>Frequency</th>\n",
              "    </tr>\n",
              "  </thead>\n",
              "  <tbody>\n",
              "    <tr>\n",
              "      <th>0</th>\n",
              "      <td>12346.0</td>\n",
              "      <td>2</td>\n",
              "    </tr>\n",
              "    <tr>\n",
              "      <th>1</th>\n",
              "      <td>12347.0</td>\n",
              "      <td>182</td>\n",
              "    </tr>\n",
              "    <tr>\n",
              "      <th>2</th>\n",
              "      <td>12348.0</td>\n",
              "      <td>31</td>\n",
              "    </tr>\n",
              "    <tr>\n",
              "      <th>3</th>\n",
              "      <td>12349.0</td>\n",
              "      <td>73</td>\n",
              "    </tr>\n",
              "    <tr>\n",
              "      <th>4</th>\n",
              "      <td>12350.0</td>\n",
              "      <td>17</td>\n",
              "    </tr>\n",
              "  </tbody>\n",
              "</table>\n",
              "</div>"
            ],
            "text/plain": [
              "  CustomerID  Frequency\n",
              "0    12346.0          2\n",
              "1    12347.0        182\n",
              "2    12348.0         31\n",
              "3    12349.0         73\n",
              "4    12350.0         17"
            ]
          },
          "metadata": {
            "tags": []
          },
          "execution_count": 136
        }
      ]
    },
    {
      "cell_type": "markdown",
      "metadata": {
        "id": "aca6w5cA4SQM"
      },
      "source": [
        "**MERGING COLUMNS \"Money\" AND \"Frequency\" W.R.T. \"CustomerID\"**"
      ]
    },
    {
      "cell_type": "code",
      "metadata": {
        "id": "gbDjLTEk4wC9",
        "outputId": "5daa231e-e2a4-4baa-a532-cab62a1f050c",
        "colab": {
          "base_uri": "https://localhost:8080/",
          "height": 204
        }
      },
      "source": [
        "rfm_m_f=pd.merge(rfm_m,rfm_f,on='CustomerID',how='inner')\n",
        "rfm_m_f.head()"
      ],
      "execution_count": 137,
      "outputs": [
        {
          "output_type": "execute_result",
          "data": {
            "text/html": [
              "<div>\n",
              "<style scoped>\n",
              "    .dataframe tbody tr th:only-of-type {\n",
              "        vertical-align: middle;\n",
              "    }\n",
              "\n",
              "    .dataframe tbody tr th {\n",
              "        vertical-align: top;\n",
              "    }\n",
              "\n",
              "    .dataframe thead th {\n",
              "        text-align: right;\n",
              "    }\n",
              "</style>\n",
              "<table border=\"1\" class=\"dataframe\">\n",
              "  <thead>\n",
              "    <tr style=\"text-align: right;\">\n",
              "      <th></th>\n",
              "      <th>CustomerID</th>\n",
              "      <th>Money</th>\n",
              "      <th>Frequency</th>\n",
              "    </tr>\n",
              "  </thead>\n",
              "  <tbody>\n",
              "    <tr>\n",
              "      <th>0</th>\n",
              "      <td>12346.0</td>\n",
              "      <td>0.00</td>\n",
              "      <td>2</td>\n",
              "    </tr>\n",
              "    <tr>\n",
              "      <th>1</th>\n",
              "      <td>12347.0</td>\n",
              "      <td>4310.00</td>\n",
              "      <td>182</td>\n",
              "    </tr>\n",
              "    <tr>\n",
              "      <th>2</th>\n",
              "      <td>12348.0</td>\n",
              "      <td>1797.24</td>\n",
              "      <td>31</td>\n",
              "    </tr>\n",
              "    <tr>\n",
              "      <th>3</th>\n",
              "      <td>12349.0</td>\n",
              "      <td>1757.55</td>\n",
              "      <td>73</td>\n",
              "    </tr>\n",
              "    <tr>\n",
              "      <th>4</th>\n",
              "      <td>12350.0</td>\n",
              "      <td>334.40</td>\n",
              "      <td>17</td>\n",
              "    </tr>\n",
              "  </tbody>\n",
              "</table>\n",
              "</div>"
            ],
            "text/plain": [
              "  CustomerID    Money  Frequency\n",
              "0    12346.0     0.00          2\n",
              "1    12347.0  4310.00        182\n",
              "2    12348.0  1797.24         31\n",
              "3    12349.0  1757.55         73\n",
              "4    12350.0   334.40         17"
            ]
          },
          "metadata": {
            "tags": []
          },
          "execution_count": 137
        }
      ]
    },
    {
      "cell_type": "markdown",
      "metadata": {
        "id": "Z1u0ikCC5BxW"
      },
      "source": [
        "3) **RECENCY (R)**"
      ]
    },
    {
      "cell_type": "code",
      "metadata": {
        "id": "W0ANVPUy5H_b",
        "outputId": "e223a52d-ec22-403f-a4d1-345746f9223c",
        "colab": {
          "base_uri": "https://localhost:8080/"
        }
      },
      "source": [
        "# Changing date time format to standard so that machine can recognise it as date\n",
        "data['InvoiceDate'] = pd.to_datetime(data['InvoiceDate'],format='%d-%m-%Y %H:%M')\n",
        "\n",
        "#finding the max (last) date for inding recency\n",
        "last_date = max(data['InvoiceDate'])\n",
        "last_date  #shows that last date was 2011-12-09"
      ],
      "execution_count": 138,
      "outputs": [
        {
          "output_type": "execute_result",
          "data": {
            "text/plain": [
              "Timestamp('2011-12-09 12:50:00')"
            ]
          },
          "metadata": {
            "tags": []
          },
          "execution_count": 138
        }
      ]
    },
    {
      "cell_type": "code",
      "metadata": {
        "id": "I6Md5y1P62Jj",
        "outputId": "d4bbbe6c-fb56-47fd-8e5b-04b2ee5544dd",
        "colab": {
          "base_uri": "https://localhost:8080/",
          "height": 204
        }
      },
      "source": [
        "# finding the difference between the last date and last puchase by creating column \"Recency\"\n",
        "data['Recency'] = last_date - data['InvoiceDate']\n",
        "\n",
        "# grouping this new generated column (Recency) with CustomerID\n",
        "# min is done to find the last time customer visited\n",
        "rfm_r = data.groupby('CustomerID')['Recency'].min()\n",
        "\n",
        "# reindexing\n",
        "rfm_r = rfm_r.reset_index()\n",
        "rfm_r.head()"
      ],
      "execution_count": 139,
      "outputs": [
        {
          "output_type": "execute_result",
          "data": {
            "text/html": [
              "<div>\n",
              "<style scoped>\n",
              "    .dataframe tbody tr th:only-of-type {\n",
              "        vertical-align: middle;\n",
              "    }\n",
              "\n",
              "    .dataframe tbody tr th {\n",
              "        vertical-align: top;\n",
              "    }\n",
              "\n",
              "    .dataframe thead th {\n",
              "        text-align: right;\n",
              "    }\n",
              "</style>\n",
              "<table border=\"1\" class=\"dataframe\">\n",
              "  <thead>\n",
              "    <tr style=\"text-align: right;\">\n",
              "      <th></th>\n",
              "      <th>CustomerID</th>\n",
              "      <th>Recency</th>\n",
              "    </tr>\n",
              "  </thead>\n",
              "  <tbody>\n",
              "    <tr>\n",
              "      <th>0</th>\n",
              "      <td>12346.0</td>\n",
              "      <td>325 days 02:33:00</td>\n",
              "    </tr>\n",
              "    <tr>\n",
              "      <th>1</th>\n",
              "      <td>12347.0</td>\n",
              "      <td>1 days 20:58:00</td>\n",
              "    </tr>\n",
              "    <tr>\n",
              "      <th>2</th>\n",
              "      <td>12348.0</td>\n",
              "      <td>74 days 23:37:00</td>\n",
              "    </tr>\n",
              "    <tr>\n",
              "      <th>3</th>\n",
              "      <td>12349.0</td>\n",
              "      <td>18 days 02:59:00</td>\n",
              "    </tr>\n",
              "    <tr>\n",
              "      <th>4</th>\n",
              "      <td>12350.0</td>\n",
              "      <td>309 days 20:49:00</td>\n",
              "    </tr>\n",
              "  </tbody>\n",
              "</table>\n",
              "</div>"
            ],
            "text/plain": [
              "  CustomerID           Recency\n",
              "0    12346.0 325 days 02:33:00\n",
              "1    12347.0   1 days 20:58:00\n",
              "2    12348.0  74 days 23:37:00\n",
              "3    12349.0  18 days 02:59:00\n",
              "4    12350.0 309 days 20:49:00"
            ]
          },
          "metadata": {
            "tags": []
          },
          "execution_count": 139
        }
      ]
    },
    {
      "cell_type": "code",
      "metadata": {
        "id": "o5QTbZvO748I",
        "outputId": "8324f944-e274-4a62-d606-3e1397d686d9",
        "colab": {
          "base_uri": "https://localhost:8080/",
          "height": 204
        }
      },
      "source": [
        "# extracting only days in Diff column for \n",
        "\n",
        "rfm_r['Recency'] = rfm_r['Recency'].dt.days\n",
        "rfm_r.head()"
      ],
      "execution_count": 140,
      "outputs": [
        {
          "output_type": "execute_result",
          "data": {
            "text/html": [
              "<div>\n",
              "<style scoped>\n",
              "    .dataframe tbody tr th:only-of-type {\n",
              "        vertical-align: middle;\n",
              "    }\n",
              "\n",
              "    .dataframe tbody tr th {\n",
              "        vertical-align: top;\n",
              "    }\n",
              "\n",
              "    .dataframe thead th {\n",
              "        text-align: right;\n",
              "    }\n",
              "</style>\n",
              "<table border=\"1\" class=\"dataframe\">\n",
              "  <thead>\n",
              "    <tr style=\"text-align: right;\">\n",
              "      <th></th>\n",
              "      <th>CustomerID</th>\n",
              "      <th>Recency</th>\n",
              "    </tr>\n",
              "  </thead>\n",
              "  <tbody>\n",
              "    <tr>\n",
              "      <th>0</th>\n",
              "      <td>12346.0</td>\n",
              "      <td>325</td>\n",
              "    </tr>\n",
              "    <tr>\n",
              "      <th>1</th>\n",
              "      <td>12347.0</td>\n",
              "      <td>1</td>\n",
              "    </tr>\n",
              "    <tr>\n",
              "      <th>2</th>\n",
              "      <td>12348.0</td>\n",
              "      <td>74</td>\n",
              "    </tr>\n",
              "    <tr>\n",
              "      <th>3</th>\n",
              "      <td>12349.0</td>\n",
              "      <td>18</td>\n",
              "    </tr>\n",
              "    <tr>\n",
              "      <th>4</th>\n",
              "      <td>12350.0</td>\n",
              "      <td>309</td>\n",
              "    </tr>\n",
              "  </tbody>\n",
              "</table>\n",
              "</div>"
            ],
            "text/plain": [
              "  CustomerID  Recency\n",
              "0    12346.0      325\n",
              "1    12347.0        1\n",
              "2    12348.0       74\n",
              "3    12349.0       18\n",
              "4    12350.0      309"
            ]
          },
          "metadata": {
            "tags": []
          },
          "execution_count": 140
        }
      ]
    },
    {
      "cell_type": "markdown",
      "metadata": {
        "id": "sbeZuIci9tyT"
      },
      "source": [
        "**MERGING \"rfm_m_f\" with \"rfm_r\"**"
      ]
    },
    {
      "cell_type": "code",
      "metadata": {
        "id": "sA9TnkCL93xG",
        "outputId": "1699738b-c602-4de6-c636-6642524b3581",
        "colab": {
          "base_uri": "https://localhost:8080/",
          "height": 204
        }
      },
      "source": [
        "rfm = pd.merge(rfm_m_f,rfm_r,on='CustomerID',how='inner')\n",
        "rfm.head()"
      ],
      "execution_count": 141,
      "outputs": [
        {
          "output_type": "execute_result",
          "data": {
            "text/html": [
              "<div>\n",
              "<style scoped>\n",
              "    .dataframe tbody tr th:only-of-type {\n",
              "        vertical-align: middle;\n",
              "    }\n",
              "\n",
              "    .dataframe tbody tr th {\n",
              "        vertical-align: top;\n",
              "    }\n",
              "\n",
              "    .dataframe thead th {\n",
              "        text-align: right;\n",
              "    }\n",
              "</style>\n",
              "<table border=\"1\" class=\"dataframe\">\n",
              "  <thead>\n",
              "    <tr style=\"text-align: right;\">\n",
              "      <th></th>\n",
              "      <th>CustomerID</th>\n",
              "      <th>Money</th>\n",
              "      <th>Frequency</th>\n",
              "      <th>Recency</th>\n",
              "    </tr>\n",
              "  </thead>\n",
              "  <tbody>\n",
              "    <tr>\n",
              "      <th>0</th>\n",
              "      <td>12346.0</td>\n",
              "      <td>0.00</td>\n",
              "      <td>2</td>\n",
              "      <td>325</td>\n",
              "    </tr>\n",
              "    <tr>\n",
              "      <th>1</th>\n",
              "      <td>12347.0</td>\n",
              "      <td>4310.00</td>\n",
              "      <td>182</td>\n",
              "      <td>1</td>\n",
              "    </tr>\n",
              "    <tr>\n",
              "      <th>2</th>\n",
              "      <td>12348.0</td>\n",
              "      <td>1797.24</td>\n",
              "      <td>31</td>\n",
              "      <td>74</td>\n",
              "    </tr>\n",
              "    <tr>\n",
              "      <th>3</th>\n",
              "      <td>12349.0</td>\n",
              "      <td>1757.55</td>\n",
              "      <td>73</td>\n",
              "      <td>18</td>\n",
              "    </tr>\n",
              "    <tr>\n",
              "      <th>4</th>\n",
              "      <td>12350.0</td>\n",
              "      <td>334.40</td>\n",
              "      <td>17</td>\n",
              "      <td>309</td>\n",
              "    </tr>\n",
              "  </tbody>\n",
              "</table>\n",
              "</div>"
            ],
            "text/plain": [
              "  CustomerID    Money  Frequency  Recency\n",
              "0    12346.0     0.00          2      325\n",
              "1    12347.0  4310.00        182        1\n",
              "2    12348.0  1797.24         31       74\n",
              "3    12349.0  1757.55         73       18\n",
              "4    12350.0   334.40         17      309"
            ]
          },
          "metadata": {
            "tags": []
          },
          "execution_count": 141
        }
      ]
    },
    {
      "cell_type": "markdown",
      "metadata": {
        "id": "NLVMb7ChAk1R"
      },
      "source": [
        "**VISUALIZING DATA TO FIND OUTLIERS**"
      ]
    },
    {
      "cell_type": "code",
      "metadata": {
        "id": "ndZjfjo5As9T",
        "outputId": "c8972c81-fab3-46a9-f05b-9eff22c03440",
        "colab": {
          "base_uri": "https://localhost:8080/",
          "height": 534
        }
      },
      "source": [
        "attributes = ['Money','Frequency',\"Recency\"]\n",
        "plt.rcParams['figure.figsize'] = [10,8] # [width,height] each point is of 72 pixel\n",
        "\n",
        "sns.boxplot(data=rfm[attributes],orient='v',palette=\"Set2\", whis=1.5,saturation=1,width=0.7)\n",
        "plt.title('Visualizing Outliers',fontsize=14 , fontweight='bold')\n",
        "plt.xlabel('Attributes',fontsize=12 , fontweight='bold')\n",
        "plt.ylabel('Outliers',fontsize=12 , fontweight='bold')\n"
      ],
      "execution_count": 142,
      "outputs": [
        {
          "output_type": "execute_result",
          "data": {
            "text/plain": [
              "Text(0, 0.5, 'Outliers')"
            ]
          },
          "metadata": {
            "tags": []
          },
          "execution_count": 142
        },
        {
          "output_type": "display_data",
          "data": {
            "image/png": "[encoded data removed]",
            "text/plain": [
              "<Figure size 720x576 with 1 Axes>"
            ]
          },
          "metadata": {
            "tags": [],
            "needs_background": "light"
          }
        }
      ]
    },
    {
      "cell_type": "markdown",
      "metadata": {
        "id": "mwplIPKtD9F6"
      },
      "source": [
        "**FINDING IQR (INTER QUARANTILE RANGE) FOR ELIMINATING OUTLIERS**\n"
      ]
    },
    {
      "cell_type": "markdown",
      "metadata": {
        "id": "J1U7ZYOKEGci"
      },
      "source": [
        "![IQR.jpg](data:image/jpeg;base64,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)"
      ]
    },
    {
      "cell_type": "code",
      "metadata": {
        "id": "41k-KtZGEIty"
      },
      "source": [
        "# Removing statistical outliers from Money column\n",
        "Q1= rfm.Money.quantile(0.05)\n",
        "Q3= rfm.Money.quantile(0.95)\n",
        "IQR = Q3 - Q1\n",
        "rfm= rfm[(rfm.Money >= Q1-1.5*IQR) & (rfm.Money <= Q3+1.5*IQR)]\n",
        "\n",
        "# Removing statistical outliers from Frequency column\n",
        "Q1= rfm.Frequency.quantile(0.05)\n",
        "Q3= rfm.Frequency.quantile(0.95)\n",
        "IQR = Q3 - Q1\n",
        "rfm= rfm[(rfm.Frequency >= Q1-1.5*IQR) & (rfm.Frequency <= Q3+1.5*IQR)]\n",
        "\n",
        "# Removing statistical outliers from Recency column\n",
        "Q1= rfm.Recency.quantile(0.05)\n",
        "Q3= rfm.Recency.quantile(0.95)\n",
        "IQR = Q3 - Q1\n",
        "rfm= rfm[(rfm.Recency >= Q1-1.5*IQR) & (rfm.Recency <= Q3+1.5*IQR)]\n",
        "\n"
      ],
      "execution_count": 143,
      "outputs": []
    },
    {
      "cell_type": "markdown",
      "metadata": {
        "id": "E8O_1_22F1Bs"
      },
      "source": [
        "**SCALING BY USING STANDARD SCALING TECHNIQUE**"
      ]
    },
    {
      "cell_type": "code",
      "metadata": {
        "id": "-GwLVDFIF8bU",
        "outputId": "d5e3669c-7558-4307-b407-f1e9c22aa0f8",
        "colab": {
          "base_uri": "https://localhost:8080/"
        }
      },
      "source": [
        "rfm_df= rfm[['Money','Frequency','Recency']]\n",
        "scalar= StandardScaler()\n",
        "rfm_df_scaled= scalar.fit_transform(rfm_df)\n",
        "rfm_df_scaled.shape"
      ],
      "execution_count": 144,
      "outputs": [
        {
          "output_type": "execute_result",
          "data": {
            "text/plain": [
              "(4293, 3)"
            ]
          },
          "metadata": {
            "tags": []
          },
          "execution_count": 144
        }
      ]
    },
    {
      "cell_type": "code",
      "metadata": {
        "id": "8YcRYhDbG5id",
        "outputId": "214857a4-add5-4503-c7ab-6c1603ca676b",
        "colab": {
          "base_uri": "https://localhost:8080/",
          "height": 204
        }
      },
      "source": [
        "# Converting it into DataFrame\n",
        "rfm_df_scaled = pd.DataFrame(rfm_df_scaled)\n",
        "rfm_df_scaled.columns = ['Money', 'Frequency', 'Recency']\n",
        "rfm_df_scaled.head()"
      ],
      "execution_count": 145,
      "outputs": [
        {
          "output_type": "execute_result",
          "data": {
            "text/html": [
              "<div>\n",
              "<style scoped>\n",
              "    .dataframe tbody tr th:only-of-type {\n",
              "        vertical-align: middle;\n",
              "    }\n",
              "\n",
              "    .dataframe tbody tr th {\n",
              "        vertical-align: top;\n",
              "    }\n",
              "\n",
              "    .dataframe thead th {\n",
              "        text-align: right;\n",
              "    }\n",
              "</style>\n",
              "<table border=\"1\" class=\"dataframe\">\n",
              "  <thead>\n",
              "    <tr style=\"text-align: right;\">\n",
              "      <th></th>\n",
              "      <th>Money</th>\n",
              "      <th>Frequency</th>\n",
              "      <th>Recency</th>\n",
              "    </tr>\n",
              "  </thead>\n",
              "  <tbody>\n",
              "    <tr>\n",
              "      <th>0</th>\n",
              "      <td>-0.723738</td>\n",
              "      <td>-0.752888</td>\n",
              "      <td>2.301611</td>\n",
              "    </tr>\n",
              "    <tr>\n",
              "      <th>1</th>\n",
              "      <td>1.731617</td>\n",
              "      <td>1.042467</td>\n",
              "      <td>-0.906466</td>\n",
              "    </tr>\n",
              "    <tr>\n",
              "      <th>2</th>\n",
              "      <td>0.300128</td>\n",
              "      <td>-0.463636</td>\n",
              "      <td>-0.183658</td>\n",
              "    </tr>\n",
              "    <tr>\n",
              "      <th>3</th>\n",
              "      <td>0.277517</td>\n",
              "      <td>-0.044720</td>\n",
              "      <td>-0.738141</td>\n",
              "    </tr>\n",
              "    <tr>\n",
              "      <th>4</th>\n",
              "      <td>-0.533235</td>\n",
              "      <td>-0.603275</td>\n",
              "      <td>2.143188</td>\n",
              "    </tr>\n",
              "  </tbody>\n",
              "</table>\n",
              "</div>"
            ],
            "text/plain": [
              "      Money  Frequency   Recency\n",
              "0 -0.723738  -0.752888  2.301611\n",
              "1  1.731617   1.042467 -0.906466\n",
              "2  0.300128  -0.463636 -0.183658\n",
              "3  0.277517  -0.044720 -0.738141\n",
              "4 -0.533235  -0.603275  2.143188"
            ]
          },
          "metadata": {
            "tags": []
          },
          "execution_count": 145
        }
      ]
    },
    {
      "cell_type": "markdown",
      "metadata": {
        "id": "0vlrqF2NINfI"
      },
      "source": [
        "# STEP 4:"
      ]
    },
    {
      "cell_type": "markdown",
      "metadata": {
        "id": "MoA6eyVwIRHK"
      },
      "source": [
        "**BUILDING THE MODEL BY TWO METHODS**\n",
        "\n",
        "1) K MEANS CLUSTING\n",
        "\n",
        "2) HIERARCHIAL CLUSTERING"
      ]
    },
    {
      "cell_type": "markdown",
      "metadata": {
        "id": "gsUWB1_kIpB1"
      },
      "source": [
        "1) **K MEANS CLUSTERING**"
      ]
    },
    {
      "cell_type": "code",
      "metadata": {
        "id": "bDiRvy7qIXVX",
        "outputId": "9819d7b6-0014-4c64-dac3-678075e8f5ad",
        "colab": {
          "base_uri": "https://localhost:8080/"
        }
      },
      "source": [
        "kmeans = KMeans(n_clusters=4,max_iter=50)\n",
        "kmeans.fit(rfm_df_scaled)"
      ],
      "execution_count": 146,
      "outputs": [
        {
          "output_type": "execute_result",
          "data": {
            "text/plain": [
              "KMeans(algorithm='auto', copy_x=True, init='k-means++', max_iter=50,\n",
              "       n_clusters=4, n_init=10, n_jobs=None, precompute_distances='auto',\n",
              "       random_state=None, tol=0.0001, verbose=0)"
            ]
          },
          "metadata": {
            "tags": []
          },
          "execution_count": 146
        }
      ]
    },
    {
      "cell_type": "code",
      "metadata": {
        "id": "ffE5HjxRJKuT",
        "outputId": "5a70a330-3a11-4ea7-868d-8c84a5c57e7b",
        "colab": {
          "base_uri": "https://localhost:8080/"
        }
      },
      "source": [
        "kmeans.labels_"
      ],
      "execution_count": 147,
      "outputs": [
        {
          "output_type": "execute_result",
          "data": {
            "text/plain": [
              "array([2, 3, 0, ..., 2, 0, 0], dtype=int32)"
            ]
          },
          "metadata": {
            "tags": []
          },
          "execution_count": 147
        }
      ]
    },
    {
      "cell_type": "markdown",
      "metadata": {
        "id": "1Ua-ai6sJQFJ"
      },
      "source": [
        "**Finding optimal value for K means.**\n",
        "_______________________________________________\n",
        "**We have 2 methods to find optimal K vlaue.**\n",
        "\n",
        "1) **Elbow Curve**\n",
        "\n",
        "2) **Silhouette Analysis** "
      ]
    },
    {
      "cell_type": "markdown",
      "metadata": {
        "id": "FTUEwr4RKTk_"
      },
      "source": [
        "**1) ELBOW CURVE**"
      ]
    },
    {
      "cell_type": "code",
      "metadata": {
        "id": "dPHu8_56KOzA",
        "outputId": "3f31f260-58c6-4ec8-eeeb-e0325e4c5261",
        "colab": {
          "base_uri": "https://localhost:8080/",
          "height": 500
        }
      },
      "source": [
        "ssd=[]\n",
        "range_clusters=[2,3,4,5,6,7,8]\n",
        "for i in range_clusters:\n",
        "  kmeans=KMeans(n_clusters=i, max_iter=50)\n",
        "  kmeans.fit(rfm_df_scaled)\n",
        "  ssd.append(kmeans.inertia_)\n",
        "\n",
        "plt.plot(range_clusters,ssd)  # shows we are getting elbow at \"3\" on x-axis, so  can be optimal K value"
      ],
      "execution_count": 148,
      "outputs": [
        {
          "output_type": "execute_result",
          "data": {
            "text/plain": [
              "[<matplotlib.lines.Line2D at 0x7f121474f208>]"
            ]
          },
          "metadata": {
            "tags": []
          },
          "execution_count": 148
        },
        {
          "output_type": "display_data",
          "data": {
            "image/png": "[encoded data removed]",
            "text/plain": [
              "<Figure size 720x576 with 1 Axes>"
            ]
          },
          "metadata": {
            "tags": [],
            "needs_background": "light"
          }
        }
      ]
    },
    {
      "cell_type": "markdown",
      "metadata": {
        "id": "YyLSPA-HLr1j"
      },
      "source": [
        "2)**SILHOUTTE ANALYSIS**\n",
        "\n",
        "\n",
        "![image.png](data:image/png;base64,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)\n",
        "\n",
        "$p$ is the mean distance to the points in the nearest cluster that the data point is not a part of\n",
        "\n",
        "$q$ is the mean intra-cluster distance to all the points in its own cluster.\n",
        "\n",
        "The value of the silhouette score range lies between -1 to 1.\n",
        "\n",
        "A score closer to 1 indicates that the data point is very similar to other data points in the cluster,\n",
        "\n",
        "A score closer to -1 indicates that the data point is not similar to the data points in its cluster.\n",
        "\n",
        "\n"
      ]
    },
    {
      "cell_type": "code",
      "metadata": {
        "id": "IgTDkzFuNBN8",
        "outputId": "ab911cf9-f3d4-4d0c-ba7e-07b138e8802c",
        "colab": {
          "base_uri": "https://localhost:8080/"
        }
      },
      "source": [
        "range_clusters= [2,3,4,5,6,7,8]\n",
        "for i in range_clusters:\n",
        "  kmeans=KMeans(n_clusters=i,max_iter=50)\n",
        "  kmeans.fit(rfm_df_scaled)\n",
        "  cluster_labels=kmeans.labels_\n",
        "  silhouette_avg= silhouette_score(rfm_df_scaled,cluster_labels)\n",
        "  print('for n_clusters={0}, the silhoutte score is : {1}'.format(i,silhouette_avg))\n",
        "# here max values are at 2 and , so we may take optimal K value as 2 or 3"
      ],
      "execution_count": 151,
      "outputs": [
        {
          "output_type": "stream",
          "text": [
            "for n_clusters=2, the silhoutte score is : 0.5415858652525395\n",
            "for n_clusters=3, the silhoutte score is : 0.5084896296141937\n",
            "for n_clusters=4, the silhoutte score is : 0.4781841150952288\n",
            "for n_clusters=5, the silhoutte score is : 0.4662700564189704\n",
            "for n_clusters=6, the silhoutte score is : 0.41742250872395564\n",
            "for n_clusters=7, the silhoutte score is : 0.4149333347620585\n",
            "for n_clusters=8, the silhoutte score is : 0.4093848755532677\n"
          ],
          "name": "stdout"
        }
      ]
    },
    {
      "cell_type": "markdown",
      "metadata": {
        "id": "WBXlLmQ3PX2p"
      },
      "source": [
        "**FINALLY FITTING MODEL AGAIN WITH OPTIMAL VALUE K=3**"
      ]
    },
    {
      "cell_type": "code",
      "metadata": {
        "id": "_rC-uBZBPl6a",
        "outputId": "d9eeb1ab-db4f-4869-8093-4e4d479e10e1",
        "colab": {
          "base_uri": "https://localhost:8080/"
        }
      },
      "source": [
        "kmeans=KMeans(n_clusters=3 , max_iter=50)\n",
        "kmeans.fit(rfm_df_scaled)"
      ],
      "execution_count": 152,
      "outputs": [
        {
          "output_type": "execute_result",
          "data": {
            "text/plain": [
              "KMeans(algorithm='auto', copy_x=True, init='k-means++', max_iter=50,\n",
              "       n_clusters=3, n_init=10, n_jobs=None, precompute_distances='auto',\n",
              "       random_state=None, tol=0.0001, verbose=0)"
            ]
          },
          "metadata": {
            "tags": []
          },
          "execution_count": 152
        }
      ]
    },
    {
      "cell_type": "code",
      "metadata": {
        "id": "I_TOBZjvP44-",
        "outputId": "4e07f132-1b70-4bd2-eec9-7f97aae0daae",
        "colab": {
          "base_uri": "https://localhost:8080/"
        }
      },
      "source": [
        "kmeans.labels_"
      ],
      "execution_count": 153,
      "outputs": [
        {
          "output_type": "execute_result",
          "data": {
            "text/plain": [
              "array([2, 0, 1, ..., 2, 1, 1], dtype=int32)"
            ]
          },
          "metadata": {
            "tags": []
          },
          "execution_count": 153
        }
      ]
    },
    {
      "cell_type": "markdown",
      "metadata": {
        "id": "ykmXPQc4V2Sq"
      },
      "source": [
        "**CREATING A NEW COLUMN \"CLUSTER_ID\" IN rfm** (result OF K-MEANS clustering)"
      ]
    },
    {
      "cell_type": "code",
      "metadata": {
        "id": "nF_O7tTIP9XD",
        "outputId": "9855e6c1-2008-450a-8eb4-e7fb47a7e8c5",
        "colab": {
          "base_uri": "https://localhost:8080/",
          "height": 204
        }
      },
      "source": [
        "rfm['Cluster_ID'] = kmeans.labels_\n",
        "rfm.head()"
      ],
      "execution_count": 154,
      "outputs": [
        {
          "output_type": "execute_result",
          "data": {
            "text/html": [
              "<div>\n",
              "<style scoped>\n",
              "    .dataframe tbody tr th:only-of-type {\n",
              "        vertical-align: middle;\n",
              "    }\n",
              "\n",
              "    .dataframe tbody tr th {\n",
              "        vertical-align: top;\n",
              "    }\n",
              "\n",
              "    .dataframe thead th {\n",
              "        text-align: right;\n",
              "    }\n",
              "</style>\n",
              "<table border=\"1\" class=\"dataframe\">\n",
              "  <thead>\n",
              "    <tr style=\"text-align: right;\">\n",
              "      <th></th>\n",
              "      <th>CustomerID</th>\n",
              "      <th>Money</th>\n",
              "      <th>Frequency</th>\n",
              "      <th>Recency</th>\n",
              "      <th>Cluster_ID</th>\n",
              "    </tr>\n",
              "  </thead>\n",
              "  <tbody>\n",
              "    <tr>\n",
              "      <th>0</th>\n",
              "      <td>12346.0</td>\n",
              "      <td>0.00</td>\n",
              "      <td>2</td>\n",
              "      <td>325</td>\n",
              "      <td>2</td>\n",
              "    </tr>\n",
              "    <tr>\n",
              "      <th>1</th>\n",
              "      <td>12347.0</td>\n",
              "      <td>4310.00</td>\n",
              "      <td>182</td>\n",
              "      <td>1</td>\n",
              "      <td>0</td>\n",
              "    </tr>\n",
              "    <tr>\n",
              "      <th>2</th>\n",
              "      <td>12348.0</td>\n",
              "      <td>1797.24</td>\n",
              "      <td>31</td>\n",
              "      <td>74</td>\n",
              "      <td>1</td>\n",
              "    </tr>\n",
              "    <tr>\n",
              "      <th>3</th>\n",
              "      <td>12349.0</td>\n",
              "      <td>1757.55</td>\n",
              "      <td>73</td>\n",
              "      <td>18</td>\n",
              "      <td>1</td>\n",
              "    </tr>\n",
              "    <tr>\n",
              "      <th>4</th>\n",
              "      <td>12350.0</td>\n",
              "      <td>334.40</td>\n",
              "      <td>17</td>\n",
              "      <td>309</td>\n",
              "      <td>2</td>\n",
              "    </tr>\n",
              "  </tbody>\n",
              "</table>\n",
              "</div>"
            ],
            "text/plain": [
              "  CustomerID    Money  Frequency  Recency  Cluster_ID\n",
              "0    12346.0     0.00          2      325           2\n",
              "1    12347.0  4310.00        182        1           0\n",
              "2    12348.0  1797.24         31       74           1\n",
              "3    12349.0  1757.55         73       18           1\n",
              "4    12350.0   334.40         17      309           2"
            ]
          },
          "metadata": {
            "tags": []
          },
          "execution_count": 154
        }
      ]
    },
    {
      "cell_type": "markdown",
      "metadata": {
        "id": "8VZbDJ4WQbGb"
      },
      "source": [
        "# **VISUALIZING RESULTS OF K-MEANS CLUSTERING**"
      ]
    },
    {
      "cell_type": "markdown",
      "metadata": {
        "id": "VZKiiXayQhfs"
      },
      "source": [
        "**CLUSTER_ID vs MONEY**"
      ]
    },
    {
      "cell_type": "code",
      "metadata": {
        "id": "iT9bZmqKQtNk",
        "outputId": "a56f23f2-db18-4b4a-ce15-0c8983cee7a4",
        "colab": {
          "base_uri": "https://localhost:8080/",
          "height": 515
        }
      },
      "source": [
        "sns.boxplot(x= 'Cluster_ID',y='Money',data=rfm)\n",
        "# shows that customers in cluster 0 have spend most money"
      ],
      "execution_count": 155,
      "outputs": [
        {
          "output_type": "execute_result",
          "data": {
            "text/plain": [
              "<matplotlib.axes._subplots.AxesSubplot at 0x7f12151a7208>"
            ]
          },
          "metadata": {
            "tags": []
          },
          "execution_count": 155
        },
        {
          "output_type": "display_data",
          "data": {
            "image/png": "[encoded data removed]",
            "text/plain": [
              "<Figure size 720x576 with 1 Axes>"
            ]
          },
          "metadata": {
            "tags": [],
            "needs_background": "light"
          }
        }
      ]
    },
    {
      "cell_type": "markdown",
      "metadata": {
        "id": "prj6-CGFQ_8u"
      },
      "source": [
        "**CLUSTER_ID vs FREQUENCY**"
      ]
    },
    {
      "cell_type": "code",
      "metadata": {
        "id": "XwRki79aRFvp",
        "outputId": "5cc0345e-e72c-454d-9f9d-b7cf64aa6b18",
        "colab": {
          "base_uri": "https://localhost:8080/",
          "height": 515
        }
      },
      "source": [
        "sns.boxplot(x='Cluster_ID',y='Frequency',data=rfm)\n",
        "# shows that customers in cluster 0 have come frequently to shop "
      ],
      "execution_count": 156,
      "outputs": [
        {
          "output_type": "execute_result",
          "data": {
            "text/plain": [
              "<matplotlib.axes._subplots.AxesSubplot at 0x7f1213a83a58>"
            ]
          },
          "metadata": {
            "tags": []
          },
          "execution_count": 156
        },
        {
          "output_type": "display_data",
          "data": {
            "image/png": "[encoded data removed]",
            "text/plain": [
              "<Figure size 720x576 with 1 Axes>"
            ]
          },
          "metadata": {
            "tags": [],
            "needs_background": "light"
          }
        }
      ]
    },
    {
      "cell_type": "markdown",
      "metadata": {
        "id": "e8nLbRrsRTg2"
      },
      "source": [
        "**CLUSTER_ID vs RECENCY**"
      ]
    },
    {
      "cell_type": "code",
      "metadata": {
        "id": "8KbIO5RURYc0",
        "outputId": "2f671209-7dff-4301-da2b-ea1c51366d0d",
        "colab": {
          "base_uri": "https://localhost:8080/",
          "height": 515
        }
      },
      "source": [
        "sns.boxplot(x='Cluster_ID',y='Recency',data=rfm)\n",
        "#shows that customers in cluster 0 have low value that is the are recent buyers"
      ],
      "execution_count": 157,
      "outputs": [
        {
          "output_type": "execute_result",
          "data": {
            "text/plain": [
              "<matplotlib.axes._subplots.AxesSubplot at 0x7f12151ac780>"
            ]
          },
          "metadata": {
            "tags": []
          },
          "execution_count": 157
        },
        {
          "output_type": "display_data",
          "data": {
            "image/png": "[encoded data removed]",
            "text/plain": [
              "<Figure size 720x576 with 1 Axes>"
            ]
          },
          "metadata": {
            "tags": [],
            "needs_background": "light"
          }
        }
      ]
    },
    {
      "cell_type": "markdown",
      "metadata": {
        "id": "y7_OJrPvSIKZ"
      },
      "source": [
        "# **2) HIERARCHAL CLUSTERING**"
      ]
    },
    {
      "cell_type": "markdown",
      "metadata": {
        "id": "Av3R9HfYSVSo"
      },
      "source": [
        "**IN THIS WE HAVE 3 TECHNIQUES**\n",
        "\n",
        "**1) SINGLE LINKAGE**\n",
        "\n",
        "**2) COMPLETE LINKAGE (BEST FOR USE)**\n",
        "\n",
        "**3)AVERAGE LINKAGE**"
      ]
    },
    {
      "cell_type": "code",
      "metadata": {
        "id": "mBlC--F0SsP1",
        "outputId": "0c1b2312-ece0-4fc0-8b31-25a8d4d09777",
        "colab": {
          "base_uri": "https://localhost:8080/",
          "height": 486
        }
      },
      "source": [
        "# SINGLE LINKAGE \n",
        "mergings = linkage(rfm_df_scaled,method='single',metric='euclidean')\n",
        "dendrogram(mergings)\n",
        "plt.show()\n",
        "# shows very clumpsy plot.Can't find number of clusters from here"
      ],
      "execution_count": 159,
      "outputs": [
        {
          "output_type": "display_data",
          "data": {
            "image/png": "[encoded data removed]",
            "text/plain": [
              "<Figure size 720x576 with 1 Axes>"
            ]
          },
          "metadata": {
            "tags": [],
            "needs_background": "light"
          }
        }
      ]
    },
    {
      "cell_type": "code",
      "metadata": {
        "id": "9PZP8SZPTVzp",
        "outputId": "545f185e-16b1-4005-9a6c-ec0d9c32a1df",
        "colab": {
          "base_uri": "https://localhost:8080/",
          "height": 486
        }
      },
      "source": [
        "# COMPLETE LINKAGE\n",
        "mergings=linkage(rfm_df_scaled,method='complete',metric='euclidean')\n",
        "dendrogram(mergings)\n",
        "plt.show()\n",
        "\n",
        "#shows clear plot. We can see 3 colors dendrogram indicating 3 clusters of green, red and blue"
      ],
      "execution_count": 161,
      "outputs": [
        {
          "output_type": "display_data",
          "data": {
            "image/png": "[encoded data removed]",
            "text/plain": [
              "<Figure size 720x576 with 1 Axes>"
            ]
          },
          "metadata": {
            "tags": [],
            "needs_background": "light"
          }
        }
      ]
    },
    {
      "cell_type": "code",
      "metadata": {
        "id": "0plMUcP_UAWE",
        "outputId": "8873f5b5-7587-4364-d6fc-30484e05582d",
        "colab": {
          "base_uri": "https://localhost:8080/",
          "height": 486
        }
      },
      "source": [
        "# AVERAGE LINKAGE\n",
        "mergings=linkage(rfm_df_scaled,method='average',metric='euclidean')\n",
        "dendrogram(mergings)\n",
        "plt.show()"
      ],
      "execution_count": 162,
      "outputs": [
        {
          "output_type": "display_data",
          "data": {
            "image/png": "[encoded data removed]",
            "text/plain": [
              "<Figure size 720x576 with 1 Axes>"
            ]
          },
          "metadata": {
            "tags": [],
            "needs_background": "light"
          }
        }
      ]
    },
    {
      "cell_type": "markdown",
      "metadata": {
        "id": "GN6O1Cm4Uzq8"
      },
      "source": [
        "**CUTTING THE DENDROGRAM BASED ON K**"
      ]
    },
    {
      "cell_type": "code",
      "metadata": {
        "id": "R3TYnoNcU5KE",
        "outputId": "ad4964ff-f46f-497c-f2f5-c5de815f86b1",
        "colab": {
          "base_uri": "https://localhost:8080/"
        }
      },
      "source": [
        "cluster_labels=cut_tree(mergings,n_clusters=3).reshape(-1,)\n",
        "cluster_labels"
      ],
      "execution_count": 163,
      "outputs": [
        {
          "output_type": "execute_result",
          "data": {
            "text/plain": [
              "array([0, 0, 0, ..., 0, 0, 0])"
            ]
          },
          "metadata": {
            "tags": []
          },
          "execution_count": 163
        }
      ]
    },
    {
      "cell_type": "markdown",
      "metadata": {
        "id": "CN1b0EpzVRrx"
      },
      "source": [
        "**CREATING COLUMN OF \"CLUSTER_LABELS\" IN rfm** (result of hierarchial clustering)"
      ]
    },
    {
      "cell_type": "code",
      "metadata": {
        "id": "uKTvxDhhVZvV",
        "outputId": "9f6dd72c-aae0-4a1c-ee76-4da7ece84283",
        "colab": {
          "base_uri": "https://localhost:8080/",
          "height": 204
        }
      },
      "source": [
        "rfm['Cluster_Labels']=cluster_labels\n",
        "rfm.head()"
      ],
      "execution_count": 164,
      "outputs": [
        {
          "output_type": "execute_result",
          "data": {
            "text/html": [
              "<div>\n",
              "<style scoped>\n",
              "    .dataframe tbody tr th:only-of-type {\n",
              "        vertical-align: middle;\n",
              "    }\n",
              "\n",
              "    .dataframe tbody tr th {\n",
              "        vertical-align: top;\n",
              "    }\n",
              "\n",
              "    .dataframe thead th {\n",
              "        text-align: right;\n",
              "    }\n",
              "</style>\n",
              "<table border=\"1\" class=\"dataframe\">\n",
              "  <thead>\n",
              "    <tr style=\"text-align: right;\">\n",
              "      <th></th>\n",
              "      <th>CustomerID</th>\n",
              "      <th>Money</th>\n",
              "      <th>Frequency</th>\n",
              "      <th>Recency</th>\n",
              "      <th>Cluster_ID</th>\n",
              "      <th>Cluster_Labels</th>\n",
              "    </tr>\n",
              "  </thead>\n",
              "  <tbody>\n",
              "    <tr>\n",
              "      <th>0</th>\n",
              "      <td>12346.0</td>\n",
              "      <td>0.00</td>\n",
              "      <td>2</td>\n",
              "      <td>325</td>\n",
              "      <td>2</td>\n",
              "      <td>0</td>\n",
              "    </tr>\n",
              "    <tr>\n",
              "      <th>1</th>\n",
              "      <td>12347.0</td>\n",
              "      <td>4310.00</td>\n",
              "      <td>182</td>\n",
              "      <td>1</td>\n",
              "      <td>0</td>\n",
              "      <td>0</td>\n",
              "    </tr>\n",
              "    <tr>\n",
              "      <th>2</th>\n",
              "      <td>12348.0</td>\n",
              "      <td>1797.24</td>\n",
              "      <td>31</td>\n",
              "      <td>74</td>\n",
              "      <td>1</td>\n",
              "      <td>0</td>\n",
              "    </tr>\n",
              "    <tr>\n",
              "      <th>3</th>\n",
              "      <td>12349.0</td>\n",
              "      <td>1757.55</td>\n",
              "      <td>73</td>\n",
              "      <td>18</td>\n",
              "      <td>1</td>\n",
              "      <td>0</td>\n",
              "    </tr>\n",
              "    <tr>\n",
              "      <th>4</th>\n",
              "      <td>12350.0</td>\n",
              "      <td>334.40</td>\n",
              "      <td>17</td>\n",
              "      <td>309</td>\n",
              "      <td>2</td>\n",
              "      <td>0</td>\n",
              "    </tr>\n",
              "  </tbody>\n",
              "</table>\n",
              "</div>"
            ],
            "text/plain": [
              "  CustomerID    Money  Frequency  Recency  Cluster_ID  Cluster_Labels\n",
              "0    12346.0     0.00          2      325           2               0\n",
              "1    12347.0  4310.00        182        1           0               0\n",
              "2    12348.0  1797.24         31       74           1               0\n",
              "3    12349.0  1757.55         73       18           1               0\n",
              "4    12350.0   334.40         17      309           2               0"
            ]
          },
          "metadata": {
            "tags": []
          },
          "execution_count": 164
        }
      ]
    },
    {
      "cell_type": "markdown",
      "metadata": {
        "id": "PA0EJmG1WOY1"
      },
      "source": [
        "# **VISUALIZING RESULTS OF HIERARCHICAL CLUSTERING**"
      ]
    },
    {
      "cell_type": "markdown",
      "metadata": {
        "id": "b9Ruum-zWkom"
      },
      "source": [
        "**CLUSTER_LABEL vs MONEY**"
      ]
    },
    {
      "cell_type": "code",
      "metadata": {
        "id": "05HM_1Q9Wppt",
        "outputId": "aea273c0-326e-4a98-89c0-37536d93a15f",
        "colab": {
          "base_uri": "https://localhost:8080/",
          "height": 515
        }
      },
      "source": [
        "sns.boxplot(x='Cluster_Labels', y='Money', data=rfm)\n",
        "#shows that customers in cluster 2 have spend more money"
      ],
      "execution_count": 165,
      "outputs": [
        {
          "output_type": "execute_result",
          "data": {
            "text/plain": [
              "<matplotlib.axes._subplots.AxesSubplot at 0x7f120d92c5f8>"
            ]
          },
          "metadata": {
            "tags": []
          },
          "execution_count": 165
        },
        {
          "output_type": "display_data",
          "data": {
            "image/png": "[encoded data removed]",
            "text/plain": [
              "<Figure size 720x576 with 1 Axes>"
            ]
          },
          "metadata": {
            "tags": [],
            "needs_background": "light"
          }
        }
      ]
    },
    {
      "cell_type": "markdown",
      "metadata": {
        "id": "hc0MkkVsW5aF"
      },
      "source": [
        "**CLUSTER_LABEL vs FREQUENCY**"
      ]
    },
    {
      "cell_type": "code",
      "metadata": {
        "id": "YNGPFVgxW8fg",
        "outputId": "14858102-9dcf-4a0b-8130-b5822c4dae64",
        "colab": {
          "base_uri": "https://localhost:8080/",
          "height": 515
        }
      },
      "source": [
        "sns.boxplot(x='Cluster_Labels', y='Frequency', data=rfm)\n",
        "# shows that customers in cluster 2 have visited store frquently"
      ],
      "execution_count": 167,
      "outputs": [
        {
          "output_type": "execute_result",
          "data": {
            "text/plain": [
              "<matplotlib.axes._subplots.AxesSubplot at 0x7f120dbdadd8>"
            ]
          },
          "metadata": {
            "tags": []
          },
          "execution_count": 167
        },
        {
          "output_type": "display_data",
          "data": {
            "image/png": "[encoded data removed]",
            "text/plain": [
              "<Figure size 720x576 with 1 Axes>"
            ]
          },
          "metadata": {
            "tags": [],
            "needs_background": "light"
          }
        }
      ]
    },
    {
      "cell_type": "markdown",
      "metadata": {
        "id": "B-crscxKXJ0H"
      },
      "source": [
        "**CLUSTER_LABEL vs RECENCY**"
      ]
    },
    {
      "cell_type": "code",
      "metadata": {
        "id": "zlz8BqNqW9rO",
        "outputId": "13cbb111-4f76-44d2-b425-a2b0ddabe098",
        "colab": {
          "base_uri": "https://localhost:8080/",
          "height": 515
        }
      },
      "source": [
        "sns.boxplot(x='Cluster_Labels', y='Recency', data=rfm)\n",
        "# shows that customers in cluster 2 have low date difference i.e. they are recent buyers"
      ],
      "execution_count": 168,
      "outputs": [
        {
          "output_type": "execute_result",
          "data": {
            "text/plain": [
              "<matplotlib.axes._subplots.AxesSubplot at 0x7f120de77ba8>"
            ]
          },
          "metadata": {
            "tags": []
          },
          "execution_count": 168
        },
        {
          "output_type": "display_data",
          "data": {
            "image/png": "[encoded data removed]",
            "text/plain": [
              "<Figure size 720x576 with 1 Axes>"
            ]
          },
          "metadata": {
            "tags": [],
            "needs_background": "light"
          }
        }
      ]
    },
    {
      "cell_type": "markdown",
      "metadata": {
        "id": "qzQfrDlZX5aS"
      },
      "source": [
        "#**FINAL ANALYSIS:**\n",
        " **BY USING K-MEANS CLUSTERING**\n",
        "\n",
        " CUSTOMERS OF CLUSTER 0 HAVE GENERATED MORE REVENUE FOR THE STORE \n",
        "\n",
        "\n",
        " **BY USING HIERARCHAL CLUSTERING**\n",
        " \n",
        " CUSTOMERS OF CLUSTER 2 HAVE GENERATED MORE REVENUE FOR THE STORE \n",
        "\n"
      ]
    }
  ]
}