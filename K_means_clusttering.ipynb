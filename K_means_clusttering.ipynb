{
  "nbformat": 4,
  "nbformat_minor": 0,
  "metadata": {
    "colab": {
      "name": "K_means_clusttering.ipynb",
      "provenance": [],
      "collapsed_sections": [],
      "mount_file_id": "1u0HphM7fpMbOD8DoNd7-_3zcJP-H3tN1",
      "authorship_tag": "ABX9TyN+xUmFfVqNL0FTHCz8Lawj"
    },
    "kernelspec": {
      "name": "python3",
      "display_name": "Python 3"
    },
    "accelerator": "GPU"
  },
  "cells": [
    {
      "cell_type": "markdown",
      "metadata": {
        "id": "A4bypv90RDX2"
      },
      "source": [
        "# K-MEANS-CLUSTERING"
      ]
    },
    {
      "cell_type": "markdown",
      "metadata": {
        "id": "B1ebUuxnRH6I"
      },
      "source": [
        "**IMPORTING LIBRARIES**"
      ]
    },
    {
      "cell_type": "code",
      "metadata": {
        "id": "gLrVtc3JNkO0",
        "outputId": "1033b762-5e1c-4c65-b82d-3f22d9e78f3c",
        "colab": {
          "base_uri": "https://localhost:8080/"
        }
      },
      "source": [
        "import numpy as np\n",
        "import pandas as pd\n",
        "import matplotlib.pyplot as plt\n",
        "#######\n",
        "import collections #For fetching dictionary of labels & clusters\n",
        "import nltk #Natural Language Toolkit\n",
        "nltk.download('stopwords')  #STOPWORDS (I ,AM, A, AN, YOU, WE)\n",
        "nltk.download('punkt')   #PUNCTUATION\n",
        "from nltk import word_tokenize #Word tokenization is the process of splitting a large sample of text into words.\n",
        "from nltk.corpus import stopwords\n",
        "from nltk.stem import PorterStemmer #Normalizing Sentences\n",
        "########\n",
        "from sklearn.cluster import KMeans\n",
        "from sklearn.feature_extraction.text import TfidfVectorizer\n",
        "#######\n",
        "from pprint import pprint\n"
      ],
      "execution_count": 19,
      "outputs": [
        {
          "output_type": "stream",
          "text": [
            "[nltk_data] Downloading package stopwords to /root/nltk_data...\n",
            "[nltk_data]   Package stopwords is already up-to-date!\n",
            "[nltk_data] Downloading package punkt to /root/nltk_data...\n",
            "[nltk_data]   Package punkt is already up-to-date!\n"
          ],
          "name": "stdout"
        }
      ]
    },
    {
      "cell_type": "markdown",
      "metadata": {
        "id": "ouiwm_ceRYBD"
      },
      "source": [
        "**LOADING DATASET**"
      ]
    },
    {
      "cell_type": "code",
      "metadata": {
        "id": "Wm5EWOQ0Nyuo",
        "outputId": "53b18717-fd7e-4cf8-df5c-66b7802090a3",
        "colab": {
          "base_uri": "https://localhost:8080/",
          "height": 917
        }
      },
      "source": [
        "sentences = pd.read_csv(\"/content/drive/My Drive/data/Quotes.csv\")\n",
        "sentences"
      ],
      "execution_count": 20,
      "outputs": [
        {
          "output_type": "execute_result",
          "data": {
            "text/html": [
              "<div>\n",
              "<style scoped>\n",
              "    .dataframe tbody tr th:only-of-type {\n",
              "        vertical-align: middle;\n",
              "    }\n",
              "\n",
              "    .dataframe tbody tr th {\n",
              "        vertical-align: top;\n",
              "    }\n",
              "\n",
              "    .dataframe thead th {\n",
              "        text-align: right;\n",
              "    }\n",
              "</style>\n",
              "<table border=\"1\" class=\"dataframe\">\n",
              "  <thead>\n",
              "    <tr style=\"text-align: right;\">\n",
              "      <th></th>\n",
              "      <th>Quotes</th>\n",
              "    </tr>\n",
              "  </thead>\n",
              "  <tbody>\n",
              "    <tr>\n",
              "      <th>0</th>\n",
              "      <td>Graphics designers are most creative people</td>\n",
              "    </tr>\n",
              "    <tr>\n",
              "      <th>1</th>\n",
              "      <td>Artificial Intelligence or AI is the last inve...</td>\n",
              "    </tr>\n",
              "    <tr>\n",
              "      <th>2</th>\n",
              "      <td>Snooker is a billiards sport for normally two ...</td>\n",
              "    </tr>\n",
              "    <tr>\n",
              "      <th>3</th>\n",
              "      <td>Snooker is played on a large (12 feet by 6 fee...</td>\n",
              "    </tr>\n",
              "    <tr>\n",
              "      <th>4</th>\n",
              "      <td>FOREX is the stock market for trading currencies</td>\n",
              "    </tr>\n",
              "    <tr>\n",
              "      <th>5</th>\n",
              "      <td>Software Engineering is hotter and hotter topi...</td>\n",
              "    </tr>\n",
              "    <tr>\n",
              "      <th>6</th>\n",
              "      <td>Love is blind</td>\n",
              "    </tr>\n",
              "    <tr>\n",
              "      <th>7</th>\n",
              "      <td>Snooker is popular in the United Kingdom and m...</td>\n",
              "    </tr>\n",
              "    <tr>\n",
              "      <th>8</th>\n",
              "      <td>The flying or operating of aircraft is known a...</td>\n",
              "    </tr>\n",
              "    <tr>\n",
              "      <th>9</th>\n",
              "      <td>AI is likely to be either the best or worst th...</td>\n",
              "    </tr>\n",
              "    <tr>\n",
              "      <th>10</th>\n",
              "      <td>Design is Intelligence made visible.</td>\n",
              "    </tr>\n",
              "    <tr>\n",
              "      <th>11</th>\n",
              "      <td>Falling in love is like being on drugs.</td>\n",
              "    </tr>\n",
              "    <tr>\n",
              "      <th>12</th>\n",
              "      <td>There is only one happiness in Life to Love an...</td>\n",
              "    </tr>\n",
              "    <tr>\n",
              "      <th>13</th>\n",
              "      <td>Boeing 777 is considered world's largest econo...</td>\n",
              "    </tr>\n",
              "    <tr>\n",
              "      <th>14</th>\n",
              "      <td>Warren Buffet is famous for making good invest...</td>\n",
              "    </tr>\n",
              "    <tr>\n",
              "      <th>15</th>\n",
              "      <td>The biggest of the many uses of aviation are i...</td>\n",
              "    </tr>\n",
              "    <tr>\n",
              "      <th>16</th>\n",
              "      <td>All giant majors in Silicon Valley is focusing...</td>\n",
              "    </tr>\n",
              "    <tr>\n",
              "      <th>17</th>\n",
              "      <td>Investing in stocks and trading with them are ...</td>\n",
              "    </tr>\n",
              "    <tr>\n",
              "      <th>18</th>\n",
              "      <td>Google will fulfill its mission only when its ...</td>\n",
              "    </tr>\n",
              "    <tr>\n",
              "      <th>19</th>\n",
              "      <td>Being in love is the number one reason why peo...</td>\n",
              "    </tr>\n",
              "    <tr>\n",
              "      <th>20</th>\n",
              "      <td>Aviation refers to flying using an aircraft li...</td>\n",
              "    </tr>\n",
              "    <tr>\n",
              "      <th>21</th>\n",
              "      <td>Auomation is the biggest blessing given by Art...</td>\n",
              "    </tr>\n",
              "    <tr>\n",
              "      <th>22</th>\n",
              "      <td>Graphics Designing is high rated freelance sub...</td>\n",
              "    </tr>\n",
              "    <tr>\n",
              "      <th>23</th>\n",
              "      <td>Loving from a long distance actually strengthe...</td>\n",
              "    </tr>\n",
              "    <tr>\n",
              "      <th>24</th>\n",
              "      <td>Real love is able to awaken your soul.</td>\n",
              "    </tr>\n",
              "    <tr>\n",
              "      <th>25</th>\n",
              "      <td>Stuart Bingham is a champion of Snooker</td>\n",
              "    </tr>\n",
              "    <tr>\n",
              "      <th>26</th>\n",
              "      <td>Software Engineer has average salary of $170K ...</td>\n",
              "    </tr>\n",
              "    <tr>\n",
              "      <th>27</th>\n",
              "      <td>AI would have a low error rate compared to hum...</td>\n",
              "    </tr>\n",
              "  </tbody>\n",
              "</table>\n",
              "</div>"
            ],
            "text/plain": [
              "                                               Quotes\n",
              "0         Graphics designers are most creative people\n",
              "1   Artificial Intelligence or AI is the last inve...\n",
              "2   Snooker is a billiards sport for normally two ...\n",
              "3   Snooker is played on a large (12 feet by 6 fee...\n",
              "4    FOREX is the stock market for trading currencies\n",
              "5   Software Engineering is hotter and hotter topi...\n",
              "6                                       Love is blind\n",
              "7   Snooker is popular in the United Kingdom and m...\n",
              "8   The flying or operating of aircraft is known a...\n",
              "9   AI is likely to be either the best or worst th...\n",
              "10               Design is Intelligence made visible.\n",
              "11            Falling in love is like being on drugs.\n",
              "12  There is only one happiness in Life to Love an...\n",
              "13  Boeing 777 is considered world's largest econo...\n",
              "14  Warren Buffet is famous for making good invest...\n",
              "15  The biggest of the many uses of aviation are i...\n",
              "16  All giant majors in Silicon Valley is focusing...\n",
              "17  Investing in stocks and trading with them are ...\n",
              "18  Google will fulfill its mission only when its ...\n",
              "19  Being in love is the number one reason why peo...\n",
              "20  Aviation refers to flying using an aircraft li...\n",
              "21  Auomation is the biggest blessing given by Art...\n",
              "22  Graphics Designing is high rated freelance sub...\n",
              "23  Loving from a long distance actually strengthe...\n",
              "24             Real love is able to awaken your soul.\n",
              "25            Stuart Bingham is a champion of Snooker\n",
              "26  Software Engineer has average salary of $170K ...\n",
              "27  AI would have a low error rate compared to hum..."
            ]
          },
          "metadata": {
            "tags": []
          },
          "execution_count": 20
        }
      ]
    },
    {
      "cell_type": "markdown",
      "metadata": {
        "id": "npwB10EcRczF"
      },
      "source": [
        "**CONVERTING DATA INTO LIST**"
      ]
    },
    {
      "cell_type": "code",
      "metadata": {
        "id": "iWz5sBPAOHN2"
      },
      "source": [
        "sentences_list = sentences[\"Quotes\"].tolist()\n"
      ],
      "execution_count": 21,
      "outputs": []
    },
    {
      "cell_type": "markdown",
      "metadata": {
        "id": "nPkYyxKERi9k"
      },
      "source": [
        "**DISPLAYING DATA AS LIST**"
      ]
    },
    {
      "cell_type": "code",
      "metadata": {
        "id": "hC6Vx9S4OMin",
        "outputId": "73f0052c-b65a-4797-a23a-665d374e8c60",
        "colab": {
          "base_uri": "https://localhost:8080/"
        }
      },
      "source": [
        "sentences_list"
      ],
      "execution_count": 22,
      "outputs": [
        {
          "output_type": "execute_result",
          "data": {
            "text/plain": [
              "['Graphics designers are most creative people',\n",
              " 'Artificial Intelligence or AI is the last invention - humans could ever make',\n",
              " 'Snooker is a billiards sport for normally two players.',\n",
              " 'Snooker is played on a large (12 feet by 6 feet) table that is covered with a smooth green material.',\n",
              " 'FOREX is the stock market for trading currencies',\n",
              " 'Software Engineering is hotter and hotter topic in Silicon Valley',\n",
              " 'Love is blind',\n",
              " 'Snooker is popular in the United Kingdom and many other countries',\n",
              " 'The flying or operating of aircraft is known as aviation.',\n",
              " 'AI is likely to be either the best or worst thing happen to humanity',\n",
              " 'Design is Intelligence made visible.',\n",
              " 'Falling in love is like being on drugs.',\n",
              " 'There is only one happiness in Life to Love and to be loved.',\n",
              " \"Boeing 777 is considered world's largest economical plane in the world of Aviation.\",\n",
              " 'Warren Buffet is famous for making good investments.He knows stock markets',\n",
              " 'The biggest of the many uses of aviation are in air travel and military aircraft.',\n",
              " 'All giant majors in Silicon Valley is focusing AI for their business productivity',\n",
              " 'Investing in stocks and trading with them are not that easy',\n",
              " \"Google will fulfill its mission only when its search engine is AI - complete You guys know what that means? That's Artificial Intelligence.\",\n",
              " 'Being in love is the number one reason why people wed.',\n",
              " 'Aviation refers to flying using an aircraft like an aeroplane.',\n",
              " 'Auomation is the biggest blessing given by Artificial Inteligence.',\n",
              " 'Graphics Designing is high rated freelance subject',\n",
              " 'Loving from a long distance actually strengthens a relationship',\n",
              " 'Real love is able to awaken your soul.',\n",
              " 'Stuart Bingham is a champion of Snooker',\n",
              " 'Software Engineer has average salary of $170K at Google',\n",
              " 'AI would have a low error rate compared to humans if coded properly. ']"
            ]
          },
          "metadata": {
            "tags": []
          },
          "execution_count": 22
        }
      ]
    },
    {
      "cell_type": "markdown",
      "metadata": {
        "id": "qQwQeHK1Q4ma"
      },
      "source": [
        "# 1) sentences into list\n",
        "# 2) tokenization i.e. spliting sentences into words\n",
        "# 3) removing stop words(i,a,am,are ,you,me etc)\n",
        "## 4) tfidf vectorization i.e. assigning words numbers.similar words are given same numbers \n",
        "\n"
      ]
    },
    {
      "cell_type": "markdown",
      "metadata": {
        "id": "DLiZy96ORrEU"
      },
      "source": [
        "**CREATING A FUNCTION FOR TOKENIZATION AND REMOVING STOP WORDS(STEMMER)**"
      ]
    },
    {
      "cell_type": "code",
      "metadata": {
        "id": "XrGv9ZLxOPKZ"
      },
      "source": [
        "#function to tokenize sentences and then removing stop words and then normailizing the remaining tokens \n",
        "\n",
        "\n",
        "def tokenizer(text):\n",
        "  tokens = word_tokenize(text) #Word tokenization is the process of splitting a large sample of text into words.\n",
        "  stemmer = PorterStemmer()\n",
        "\n",
        "  #Removing Morphhological axes (stop words for normalizing)\n",
        "  tokens = [stemmer.stem(t) for t in tokens if t not in stopwords.words('english')]\n",
        "  return tokens\n"
      ],
      "execution_count": 23,
      "outputs": []
    },
    {
      "cell_type": "markdown",
      "metadata": {
        "id": "bc3BNDPTR8Bv"
      },
      "source": [
        "**CREATING A FUNCTION FOR TFIDF VECTORIZATION**"
      ]
    },
    {
      "cell_type": "code",
      "metadata": {
        "id": "30ZyU-v8OfPO"
      },
      "source": [
        "# TF-IDF enables us to gives us a way to associate each word in a document with a number that represents \n",
        "# how relevant each word is in that document. Then, documents with similar, relevant words will have \n",
        "# similar vectors, which is what we are looking for in a machine learning algorithm.\n",
        "\n",
        "def cluster_sentences(sentences_list, k):\n",
        "\n",
        "  tfidf_vectorizer = TfidfVectorizer(tokenizer=tokenizer, stop_words=stopwords.words('english'),lowercase=True)\n",
        "  tfidf_matrix = tfidf_vectorizer.fit_transform(sentences_list)\n",
        "\n",
        "  kmeans = KMeans(n_clusters=k)\n",
        "  kmeans.fit(tfidf_matrix)\n",
        "\n",
        "  clusters = collections.defaultdict(list)\n",
        "\n",
        "  for i, label in enumerate(kmeans.labels_):\n",
        "    clusters[label].append(i)\n",
        "\n",
        "  return dict(clusters)\n"
      ],
      "execution_count": 24,
      "outputs": []
    },
    {
      "cell_type": "markdown",
      "metadata": {
        "id": "6xcRJOyXSF_7"
      },
      "source": [
        "** TESTING THE MODEL** "
      ]
    },
    {
      "cell_type": "code",
      "metadata": {
        "id": "tTzgrEeLOhfr",
        "outputId": "7fec237a-bd38-4cb0-ab52-5e07c0f03f03",
        "colab": {
          "base_uri": "https://localhost:8080/"
        }
      },
      "source": [
        "k = 7\n",
        "clusters = cluster_sentences(sentences_list,k)  #calling function\n",
        "for cluster in range (k):             # CLUSTER 0:\n",
        "  print(\"\\nCLUSTER \",cluster,\":\\n\")   # CLUSTER 0:\n",
        "  for i, sentence in enumerate(clusters[cluster]):  #1: love is blind 2:falling in love us kike being on drugs\n",
        "    print(\"\\t\",(i+1),\": \",sentences_list[sentence]) #1: love is blind 2:falling in love us kike being on drugs\n",
        "\n"
      ],
      "execution_count": 25,
      "outputs": [
        {
          "output_type": "stream",
          "text": [
            "\n",
            "CLUSTER  0 :\n",
            "\n",
            "\t 1 :  Love is blind\n",
            "\t 2 :  Falling in love is like being on drugs.\n",
            "\t 3 :  There is only one happiness in Life to Love and to be loved.\n",
            "\t 4 :  Being in love is the number one reason why people wed.\n",
            "\t 5 :  Loving from a long distance actually strengthens a relationship\n",
            "\t 6 :  Real love is able to awaken your soul.\n",
            "\n",
            "CLUSTER  1 :\n",
            "\n",
            "\t 1 :  Artificial Intelligence or AI is the last invention - humans could ever make\n",
            "\t 2 :  Google will fulfill its mission only when its search engine is AI - complete You guys know what that means? That's Artificial Intelligence.\n",
            "\t 3 :  Auomation is the biggest blessing given by Artificial Inteligence.\n",
            "\n",
            "CLUSTER  2 :\n",
            "\n",
            "\t 1 :  The flying or operating of aircraft is known as aviation.\n",
            "\t 2 :  AI is likely to be either the best or worst thing happen to humanity\n",
            "\t 3 :  Boeing 777 is considered world's largest economical plane in the world of Aviation.\n",
            "\t 4 :  The biggest of the many uses of aviation are in air travel and military aircraft.\n",
            "\t 5 :  Aviation refers to flying using an aircraft like an aeroplane.\n",
            "\n",
            "CLUSTER  3 :\n",
            "\n",
            "\t 1 :  Software Engineering is hotter and hotter topic in Silicon Valley\n",
            "\t 2 :  All giant majors in Silicon Valley is focusing AI for their business productivity\n",
            "\t 3 :  Software Engineer has average salary of $170K at Google\n",
            "\n",
            "CLUSTER  4 :\n",
            "\n",
            "\t 1 :  Graphics designers are most creative people\n",
            "\t 2 :  Design is Intelligence made visible.\n",
            "\t 3 :  Graphics Designing is high rated freelance subject\n",
            "\t 4 :  AI would have a low error rate compared to humans if coded properly. \n",
            "\n",
            "CLUSTER  5 :\n",
            "\n",
            "\t 1 :  FOREX is the stock market for trading currencies\n",
            "\t 2 :  Warren Buffet is famous for making good investments.He knows stock markets\n",
            "\t 3 :  Investing in stocks and trading with them are not that easy\n",
            "\n",
            "CLUSTER  6 :\n",
            "\n",
            "\t 1 :  Snooker is a billiards sport for normally two players.\n",
            "\t 2 :  Snooker is played on a large (12 feet by 6 feet) table that is covered with a smooth green material.\n",
            "\t 3 :  Snooker is popular in the United Kingdom and many other countries\n",
            "\t 4 :  Stuart Bingham is a champion of Snooker\n"
          ],
          "name": "stdout"
        },
        {
          "output_type": "stream",
          "text": [
            "/usr/local/lib/python3.6/dist-packages/sklearn/feature_extraction/text.py:385: UserWarning: Your stop_words may be inconsistent with your preprocessing. Tokenizing the stop words generated tokens [\"'d\", \"'ll\", \"'re\", \"'s\", \"'ve\", 'could', 'might', 'must', \"n't\", 'need', 'sha', 'wo', 'would'] not in stop_words.\n",
            "  'stop_words.' % sorted(inconsistent))\n"
          ],
          "name": "stderr"
        }
      ]
    }
  ]
}